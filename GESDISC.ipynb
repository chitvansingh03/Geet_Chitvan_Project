{
 "cells": [
  {
   "cell_type": "markdown",
   "id": "fd1b918d-a2e9-4705-80a6-1ef277ec081c",
   "metadata": {},
   "source": [
    "#SETUP GESDIS LOGIN"
   ]
  },
  {
   "cell_type": "code",
   "execution_count": null,
   "id": "41cebb3c-7113-4c14-bfe9-8eb9d55dfd60",
   "metadata": {},
   "outputs": [],
   "source": [
    "from subprocess import Popen\n",
    "from getpass import getpass\n",
    "import platform\n",
    "import os\n",
    "import shutil\n",
    "\n",
    "urs = 'urs.earthdata.nasa.gov'    # Earthdata URL to call for authentication\n",
    "prompts = ['Enter NASA Earthdata Login Username \\n(or create an account at urs.earthdata.nasa.gov): ',\n",
    "           'Enter NASA Earthdata Login Password: ']\n",
    "\n",
    "homeDir = os.path.expanduser(\"~\") + os.sep\n",
    "\n",
    "with open(homeDir + '.netrc', 'w') as file:\n",
    "    file.write('machine {} login {} password {}'.format(urs, getpass(prompt=prompts[0]), getpass(prompt=prompts[1])))\n",
    "    file.close()\n",
    "with open(homeDir + '.urs_cookies', 'w') as file:\n",
    "    file.write('')\n",
    "    file.close()\n",
    "with open(homeDir + '.dodsrc', 'w') as file:\n",
    "    file.write('HTTP.COOKIEJAR={}.urs_cookies\\n'.format(homeDir))\n",
    "    file.write('HTTP.NETRC={}.netrc'.format(homeDir))\n",
    "    file.close()\n",
    "\n",
    "print('Saved .netrc, .urs_cookies, and .dodsrc to:', homeDir)\n",
    "\n",
    "# Set appropriate permissions for Linux/macOS\n",
    "if platform.system() != \"Windows\":\n",
    "    Popen('chmod og-rw ~/.netrc', shell=True)\n",
    "else:\n",
    "    # Copy dodsrc to working directory in Windows  \n",
    "    shutil.copy2(homeDir + '.dodsrc', os.getcwd())\n",
    "    print('Copied .dodsrc to:', os.getcwd())\n"
   ]
  },
  {
   "cell_type": "markdown",
   "id": "a5671e5c-985e-4b1f-aeba-448a49a3de8b",
   "metadata": {},
   "source": [
    "FOR CPC DATA"
   ]
  },
  {
   "cell_type": "code",
   "execution_count": null,
   "id": "d42281c6",
   "metadata": {},
   "outputs": [],
   "source": [
    "import requests\n",
    "\n",
    "# Set the URL string to point to a specific data URL. Some generic examples are:\n",
    "#   https://data.gesdisc.earthdata.nasa.gov/data/MERRA2/path/to/granule.nc4\n",
    "import pandas as pd\n",
    "import numpy as np\n",
    "SUBSETLIST = pd.read_csv(r\"C:\\Users\\ChitvanSingh\\Downloads\\subset_GPM_MERGIR_1_20241024_070707_.txt\",sep = '\\t')\n",
    "CHCKLIST = os.listdir(\"D:/NCEP_CPC_L3MergedIR_TB_2018/\" )\n",
    "hour_range = np.array([11,12,13]).astype(int)\n",
    "\n",
    "\n",
    "\n",
    "\n",
    "for i in range(1,len(SUBSETLIST),1):\n",
    "#for i in range(5):\n",
    " URL = np.array(SUBSETLIST.iloc[i])[0]\n",
    " hour = int(URL[-85:-83])\n",
    "\n",
    "# Set the FILENAME string to the data file name, the LABEL keyword value, or any customized name. \n",
    " FILENAME = \"D:/NCEP_CPC_L3MergedIR_TB_2018/\" + URL[-98:-69]\n",
    " if(np.isin(hour,hour_range)):\n",
    "  if (np.sum(np.isin(CHCKLIST,URL[-98:-69])) == 0):\n",
    "   result = requests.get(URL)\n",
    "   try:\n",
    "    result.raise_for_status()\n",
    "    f = open(FILENAME,'wb')\n",
    "    f.write(result.content)\n",
    "    f.close()\n",
    "    print('contents of URL written to '+FILENAME,end= '\\r')\n",
    "   except:\n",
    "    print('requests.get() returned an error code '+str(result.status_code),end= '\\r')\n",
    "  else:\n",
    "    print('file_already_exists',end= '\\r')\n",
    "\n",
    " else:\n",
    "    print('hour is not in defined range',end= '\\r')"
   ]
  }
 ],
 "metadata": {
  "kernelspec": {
   "display_name": "Python 3",
   "language": "python",
   "name": "python3"
  },
  "language_info": {
   "codemirror_mode": {
    "name": "ipython",
    "version": 3
   },
   "file_extension": ".py",
   "mimetype": "text/x-python",
   "name": "python",
   "nbconvert_exporter": "python",
   "pygments_lexer": "ipython3",
   "version": "3.6.13"
  }
 },
 "nbformat": 4,
 "nbformat_minor": 5
}
